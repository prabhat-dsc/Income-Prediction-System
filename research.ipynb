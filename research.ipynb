{
 "cells": [
  {
   "cell_type": "code",
   "execution_count": 3,
   "id": "94112fdd",
   "metadata": {},
   "outputs": [
    {
     "name": "stdout",
     "output_type": "stream",
     "text": [
      "['pandas', 'Flask', 'numpy', 'scikit-learn', 'seaborn']\n"
     ]
    }
   ],
   "source": [
    "HYPHON_E_DOT = \"-e .\"\n",
    "\n",
    "def get_requriments(filepath: str)->list:\n",
    "    requirements = []\n",
    "\n",
    "    with open(filepath) as file_obj:\n",
    "        requirements = file_obj.readlines()\n",
    "        requirements = [ i.replace(\"\\n\", \"\") for i in requirements]\n",
    "        if HYPHON_E_DOT in requirements:\n",
    "            requirements.remove(HYPHON_E_DOT)\n",
    "    print(requirements)        \n",
    "\n",
    "get_requriments(\"requirements.txt\")"
   ]
  },
  {
   "cell_type": "markdown",
   "id": "a190fcda",
   "metadata": {},
   "source": [
    "## Logger"
   ]
  },
  {
   "cell_type": "code",
   "execution_count": 2,
   "id": "d38e7047",
   "metadata": {},
   "outputs": [
    {
     "name": "stderr",
     "output_type": "stream",
     "text": [
      "WARNING:root:Watch out!\n"
     ]
    }
   ],
   "source": [
    "import logging\n",
    "\n",
    "logging.info('I told you so')  # will not print anything\n",
    "logging.warning('Watch out!')  # will print a message to the console"
   ]
  },
  {
   "cell_type": "code",
   "execution_count": null,
   "id": "2f9e516a",
   "metadata": {},
   "outputs": [],
   "source": [
    "import os\n",
    "import sys\n",
    "import logging\n",
    "from datetime import datetime\n",
    "\n",
    "\n",
    "LOG_FILE = f\"{datetime.now().strftime('%m_%d_%Y_%H_%M_%S')}.log\"\n",
    "\n",
    "log_path = os.path.join(os.getcwd(), \"logs\", LOG_FILE)\n",
    "\n",
    "os.makedirs(log_path, exist_ok= True)\n",
    "\n",
    "LOG_FILE_PATH = os.path.join(log_path, LOG_FILE)\n",
    "\n",
    "logging.basicConfig(\n",
    "    filename=LOG_FILE_PATH,\n",
    "    format=\"[ %(asctime)s ] %(lineno)d %(name)s - %(levelname)s - %(message)s\",\n",
    "    level=logging.INFO\n",
    "\n",
    ")"
   ]
  },
  {
   "cell_type": "code",
   "execution_count": 2,
   "id": "763f6e24",
   "metadata": {},
   "outputs": [],
   "source": [
    "import os\n",
    "import sys\n",
    "import logging\n",
    "from datetime import datetime\n",
    "\n"
   ]
  },
  {
   "cell_type": "code",
   "execution_count": 40,
   "id": "45744191",
   "metadata": {},
   "outputs": [],
   "source": [
    "log_file=f\"{datetime.now().strftime('%d-%m-%Y_%H-%M-%S')}.log\"  \n",
    "log_dir='Loogss'\n",
    "log_path=os.path.join(os.getcwd(),log_dir,log_file)\n",
    "os.makedirs(log_path, exist_ok= True)\n",
    "log_file_path=os.path.join(log_path,log_file)\n",
    "logging.basicConfig(\n",
    "    filename=log_file_path,\n",
    "    format=\"[ %(asctime)s ] %(lineno)d %(name)s - %(levelname)s - %(message)s\",\n",
    "    level=logging.INFO\n",
    "\n",
    ")\n",
    "\n",
    "if __name__ == \"__main__\":\n",
    "   logging.info(\"Logging initialized!\")\n",
    "\n"
   ]
  },
  {
   "cell_type": "code",
   "execution_count": 2,
   "id": "c142117a",
   "metadata": {},
   "outputs": [
    {
     "name": "stdout",
     "output_type": "stream",
     "text": [
      " person name is : ravi and his/her age is : 24\n"
     ]
    }
   ],
   "source": [
    "class person:\n",
    "    def __init__(self,name,age,sex):\n",
    "        self.name=name\n",
    "        self.age=age\n",
    "        self.sex=sex\n",
    "\n",
    "    def __str__(self):\n",
    "        return f\" person name is : {self.name} and his/her age is : {self.age}\" \n",
    "\n",
    "p=person('ravi',24,'male')     \n",
    "print(p)"
   ]
  },
  {
   "cell_type": "code",
   "execution_count": 3,
   "id": "1b5e7c08",
   "metadata": {},
   "outputs": [
    {
     "data": {
      "text/plain": [
       " person name is : sunil and his/her age is : 34"
      ]
     },
     "execution_count": 3,
     "metadata": {},
     "output_type": "execute_result"
    }
   ],
   "source": [
    "class person:\n",
    "    def __init__(self,name,age,sex):\n",
    "        self.name=name\n",
    "        self.age=age\n",
    "        self.sex=sex\n",
    "\n",
    "    def __repr__(self):\n",
    "        return f\" person name is : {self.name} and his/her age is : {self.age}\" \n",
    "\n",
    "p=person('sunil',34,'male')     \n",
    "p"
   ]
  },
  {
   "cell_type": "code",
   "execution_count": 4,
   "id": "2a3804e6",
   "metadata": {},
   "outputs": [
    {
     "data": {
      "text/plain": [
       "emp(name='ram', age=30, sex='male')"
      ]
     },
     "execution_count": 4,
     "metadata": {},
     "output_type": "execute_result"
    }
   ],
   "source": [
    "from dataclasses import dataclass\n",
    "\n",
    "@dataclass\n",
    "class emp:\n",
    "    name:str\n",
    "    age:int\n",
    "    sex:str\n",
    "\n",
    "\n",
    "e1=emp('ram',30,'male')\n",
    "e1"
   ]
  },
  {
   "cell_type": "code",
   "execution_count": 5,
   "id": "9875de02",
   "metadata": {},
   "outputs": [
    {
     "data": {
      "text/plain": [
       "'ram'"
      ]
     },
     "execution_count": 5,
     "metadata": {},
     "output_type": "execute_result"
    }
   ],
   "source": [
    "e1.name"
   ]
  },
  {
   "cell_type": "code",
   "execution_count": 56,
   "id": "4538b1ed",
   "metadata": {},
   "outputs": [
    {
     "data": {
      "text/plain": [
       "emp(name='monali', age=25, sex='female')"
      ]
     },
     "execution_count": 56,
     "metadata": {},
     "output_type": "execute_result"
    }
   ],
   "source": [
    "m=emp('monali',25,'female')\n",
    "m"
   ]
  },
  {
   "cell_type": "code",
   "execution_count": 61,
   "id": "6f401eb2",
   "metadata": {},
   "outputs": [
    {
     "data": {
      "text/plain": [
       "'monali'"
      ]
     },
     "execution_count": 61,
     "metadata": {},
     "output_type": "execute_result"
    }
   ],
   "source": [
    "m.name"
   ]
  },
  {
   "cell_type": "code",
   "execution_count": 3,
   "id": "e3a2d545",
   "metadata": {},
   "outputs": [],
   "source": [
    "raw_path=os.path.join(\"artifacts\",\"raw.csv\")\n",
    "train_path=os.path.join(\"artifacts\",\"train.csv\")\n",
    "test_path=os.path.join(\"artifacts\",\"test.csv\")"
   ]
  },
  {
   "cell_type": "code",
   "execution_count": 4,
   "id": "e31be3a5",
   "metadata": {},
   "outputs": [
    {
     "data": {
      "text/plain": [
       "'artifacts\\\\raw.csv'"
      ]
     },
     "execution_count": 4,
     "metadata": {},
     "output_type": "execute_result"
    }
   ],
   "source": [
    "raw_path"
   ]
  },
  {
   "cell_type": "code",
   "execution_count": 5,
   "id": "ef8c1b21",
   "metadata": {},
   "outputs": [],
   "source": [
    "os.makedirs(os.path.dirname(raw_path),exist_ok=True)"
   ]
  },
  {
   "cell_type": "code",
   "execution_count": 6,
   "id": "aac36361",
   "metadata": {},
   "outputs": [
    {
     "data": {
      "text/html": [
       "<div>\n",
       "<style scoped>\n",
       "    .dataframe tbody tr th:only-of-type {\n",
       "        vertical-align: middle;\n",
       "    }\n",
       "\n",
       "    .dataframe tbody tr th {\n",
       "        vertical-align: top;\n",
       "    }\n",
       "\n",
       "    .dataframe thead th {\n",
       "        text-align: right;\n",
       "    }\n",
       "</style>\n",
       "<table border=\"1\" class=\"dataframe\">\n",
       "  <thead>\n",
       "    <tr style=\"text-align: right;\">\n",
       "      <th></th>\n",
       "      <th>age</th>\n",
       "      <th>workclass</th>\n",
       "      <th>education_num</th>\n",
       "      <th>marital_status</th>\n",
       "      <th>occupation</th>\n",
       "      <th>relationship</th>\n",
       "      <th>race</th>\n",
       "      <th>sex</th>\n",
       "      <th>capital_gain</th>\n",
       "      <th>capital_loss</th>\n",
       "      <th>hours_per_week</th>\n",
       "      <th>native_country</th>\n",
       "      <th>income</th>\n",
       "    </tr>\n",
       "  </thead>\n",
       "  <tbody>\n",
       "    <tr>\n",
       "      <th>0</th>\n",
       "      <td>39</td>\n",
       "      <td>6</td>\n",
       "      <td>13</td>\n",
       "      <td>4</td>\n",
       "      <td>0</td>\n",
       "      <td>1</td>\n",
       "      <td>4</td>\n",
       "      <td>1</td>\n",
       "      <td>2174</td>\n",
       "      <td>0</td>\n",
       "      <td>40</td>\n",
       "      <td>38</td>\n",
       "      <td>0</td>\n",
       "    </tr>\n",
       "    <tr>\n",
       "      <th>1</th>\n",
       "      <td>50</td>\n",
       "      <td>5</td>\n",
       "      <td>13</td>\n",
       "      <td>2</td>\n",
       "      <td>3</td>\n",
       "      <td>0</td>\n",
       "      <td>4</td>\n",
       "      <td>1</td>\n",
       "      <td>0</td>\n",
       "      <td>0</td>\n",
       "      <td>13</td>\n",
       "      <td>38</td>\n",
       "      <td>0</td>\n",
       "    </tr>\n",
       "    <tr>\n",
       "      <th>2</th>\n",
       "      <td>38</td>\n",
       "      <td>3</td>\n",
       "      <td>9</td>\n",
       "      <td>0</td>\n",
       "      <td>5</td>\n",
       "      <td>1</td>\n",
       "      <td>4</td>\n",
       "      <td>1</td>\n",
       "      <td>0</td>\n",
       "      <td>0</td>\n",
       "      <td>40</td>\n",
       "      <td>38</td>\n",
       "      <td>0</td>\n",
       "    </tr>\n",
       "    <tr>\n",
       "      <th>3</th>\n",
       "      <td>53</td>\n",
       "      <td>3</td>\n",
       "      <td>7</td>\n",
       "      <td>2</td>\n",
       "      <td>5</td>\n",
       "      <td>0</td>\n",
       "      <td>2</td>\n",
       "      <td>1</td>\n",
       "      <td>0</td>\n",
       "      <td>0</td>\n",
       "      <td>40</td>\n",
       "      <td>38</td>\n",
       "      <td>0</td>\n",
       "    </tr>\n",
       "    <tr>\n",
       "      <th>4</th>\n",
       "      <td>28</td>\n",
       "      <td>3</td>\n",
       "      <td>13</td>\n",
       "      <td>2</td>\n",
       "      <td>9</td>\n",
       "      <td>5</td>\n",
       "      <td>2</td>\n",
       "      <td>0</td>\n",
       "      <td>0</td>\n",
       "      <td>0</td>\n",
       "      <td>40</td>\n",
       "      <td>4</td>\n",
       "      <td>0</td>\n",
       "    </tr>\n",
       "    <tr>\n",
       "      <th>...</th>\n",
       "      <td>...</td>\n",
       "      <td>...</td>\n",
       "      <td>...</td>\n",
       "      <td>...</td>\n",
       "      <td>...</td>\n",
       "      <td>...</td>\n",
       "      <td>...</td>\n",
       "      <td>...</td>\n",
       "      <td>...</td>\n",
       "      <td>...</td>\n",
       "      <td>...</td>\n",
       "      <td>...</td>\n",
       "      <td>...</td>\n",
       "    </tr>\n",
       "    <tr>\n",
       "      <th>32532</th>\n",
       "      <td>27</td>\n",
       "      <td>3</td>\n",
       "      <td>12</td>\n",
       "      <td>2</td>\n",
       "      <td>12</td>\n",
       "      <td>5</td>\n",
       "      <td>4</td>\n",
       "      <td>0</td>\n",
       "      <td>0</td>\n",
       "      <td>0</td>\n",
       "      <td>38</td>\n",
       "      <td>38</td>\n",
       "      <td>0</td>\n",
       "    </tr>\n",
       "    <tr>\n",
       "      <th>32533</th>\n",
       "      <td>40</td>\n",
       "      <td>3</td>\n",
       "      <td>9</td>\n",
       "      <td>2</td>\n",
       "      <td>6</td>\n",
       "      <td>0</td>\n",
       "      <td>4</td>\n",
       "      <td>1</td>\n",
       "      <td>0</td>\n",
       "      <td>0</td>\n",
       "      <td>40</td>\n",
       "      <td>38</td>\n",
       "      <td>1</td>\n",
       "    </tr>\n",
       "    <tr>\n",
       "      <th>32534</th>\n",
       "      <td>58</td>\n",
       "      <td>3</td>\n",
       "      <td>9</td>\n",
       "      <td>6</td>\n",
       "      <td>0</td>\n",
       "      <td>4</td>\n",
       "      <td>4</td>\n",
       "      <td>0</td>\n",
       "      <td>0</td>\n",
       "      <td>0</td>\n",
       "      <td>40</td>\n",
       "      <td>38</td>\n",
       "      <td>0</td>\n",
       "    </tr>\n",
       "    <tr>\n",
       "      <th>32535</th>\n",
       "      <td>22</td>\n",
       "      <td>3</td>\n",
       "      <td>9</td>\n",
       "      <td>4</td>\n",
       "      <td>0</td>\n",
       "      <td>3</td>\n",
       "      <td>4</td>\n",
       "      <td>1</td>\n",
       "      <td>0</td>\n",
       "      <td>0</td>\n",
       "      <td>20</td>\n",
       "      <td>38</td>\n",
       "      <td>0</td>\n",
       "    </tr>\n",
       "    <tr>\n",
       "      <th>32536</th>\n",
       "      <td>52</td>\n",
       "      <td>4</td>\n",
       "      <td>9</td>\n",
       "      <td>2</td>\n",
       "      <td>3</td>\n",
       "      <td>5</td>\n",
       "      <td>4</td>\n",
       "      <td>0</td>\n",
       "      <td>15024</td>\n",
       "      <td>0</td>\n",
       "      <td>40</td>\n",
       "      <td>38</td>\n",
       "      <td>1</td>\n",
       "    </tr>\n",
       "  </tbody>\n",
       "</table>\n",
       "<p>32537 rows × 13 columns</p>\n",
       "</div>"
      ],
      "text/plain": [
       "       age  workclass  education_num  marital_status  occupation  \\\n",
       "0       39          6             13               4           0   \n",
       "1       50          5             13               2           3   \n",
       "2       38          3              9               0           5   \n",
       "3       53          3              7               2           5   \n",
       "4       28          3             13               2           9   \n",
       "...    ...        ...            ...             ...         ...   \n",
       "32532   27          3             12               2          12   \n",
       "32533   40          3              9               2           6   \n",
       "32534   58          3              9               6           0   \n",
       "32535   22          3              9               4           0   \n",
       "32536   52          4              9               2           3   \n",
       "\n",
       "       relationship  race  sex  capital_gain  capital_loss  hours_per_week  \\\n",
       "0                 1     4    1          2174             0              40   \n",
       "1                 0     4    1             0             0              13   \n",
       "2                 1     4    1             0             0              40   \n",
       "3                 0     2    1             0             0              40   \n",
       "4                 5     2    0             0             0              40   \n",
       "...             ...   ...  ...           ...           ...             ...   \n",
       "32532             5     4    0             0             0              38   \n",
       "32533             0     4    1             0             0              40   \n",
       "32534             4     4    0             0             0              40   \n",
       "32535             3     4    1             0             0              20   \n",
       "32536             5     4    0         15024             0              40   \n",
       "\n",
       "       native_country  income  \n",
       "0                  38       0  \n",
       "1                  38       0  \n",
       "2                  38       0  \n",
       "3                  38       0  \n",
       "4                   4       0  \n",
       "...               ...     ...  \n",
       "32532              38       0  \n",
       "32533              38       1  \n",
       "32534              38       0  \n",
       "32535              38       0  \n",
       "32536              38       1  \n",
       "\n",
       "[32537 rows x 13 columns]"
      ]
     },
     "execution_count": 6,
     "metadata": {},
     "output_type": "execute_result"
    }
   ],
   "source": [
    "import pandas as pd\n",
    "df=pd.read_csv('raw.csv')\n",
    "df"
   ]
  },
  {
   "cell_type": "code",
   "execution_count": 7,
   "id": "4247ac03",
   "metadata": {},
   "outputs": [],
   "source": [
    "df.to_csv(raw_path,index=False)"
   ]
  },
  {
   "cell_type": "code",
   "execution_count": 8,
   "id": "b1f3b31c",
   "metadata": {},
   "outputs": [
    {
     "data": {
      "text/plain": [
       "'artifacts\\\\data_ingestion'"
      ]
     },
     "execution_count": 8,
     "metadata": {},
     "output_type": "execute_result"
    }
   ],
   "source": [
    "data_ingestion_path=os.path.join('artifacts','data_ingestion')\n",
    "data_ingestion_path"
   ]
  },
  {
   "cell_type": "code",
   "execution_count": 11,
   "id": "1e0e6503",
   "metadata": {},
   "outputs": [
    {
     "data": {
      "text/plain": [
       "'artifacts\\\\data_ingestion\\\\raw.csv'"
      ]
     },
     "execution_count": 11,
     "metadata": {},
     "output_type": "execute_result"
    }
   ],
   "source": [
    "os.makedirs(data_ingestion_path,exist_ok=True)\n",
    "raw_csv_path=os.path.join(data_ingestion_path,'raw.csv')\n",
    "raw_csv_path"
   ]
  },
  {
   "cell_type": "code",
   "execution_count": 13,
   "id": "2321583b",
   "metadata": {},
   "outputs": [],
   "source": [
    "train_csv_path=os.path.join(data_ingestion_path,'train.csv')\n",
    "test_csv_path=os.path.join(data_ingestion_path,'test.csv')"
   ]
  },
  {
   "cell_type": "code",
   "execution_count": 14,
   "id": "28a2393f",
   "metadata": {},
   "outputs": [
    {
     "data": {
      "text/plain": [
       "'artifacts\\\\data_ingestion\\\\test.csv'"
      ]
     },
     "execution_count": 14,
     "metadata": {},
     "output_type": "execute_result"
    }
   ],
   "source": [
    "test_csv_path"
   ]
  },
  {
   "cell_type": "code",
   "execution_count": 12,
   "id": "3682ae00",
   "metadata": {},
   "outputs": [],
   "source": [
    "df.to_csv(raw_csv_path)"
   ]
  },
  {
   "cell_type": "code",
   "execution_count": 16,
   "id": "0abeb914",
   "metadata": {},
   "outputs": [],
   "source": [
    "from sklearn.model_selection import train_test_split\n",
    "train_set,test_set=train_test_split(df,test_size=0.3,random_state=42)"
   ]
  },
  {
   "cell_type": "code",
   "execution_count": 19,
   "id": "aa26c993",
   "metadata": {},
   "outputs": [
    {
     "name": "stdout",
     "output_type": "stream",
     "text": [
      "(22775, 13)\n",
      "(9762, 13)\n"
     ]
    }
   ],
   "source": [
    "print(train_set.shape)\n",
    "print(test_set.shape)"
   ]
  },
  {
   "cell_type": "code",
   "execution_count": null,
   "id": "eb8b3e17",
   "metadata": {},
   "outputs": [],
   "source": [
    "df.to_csv(train_csv_path,index=False)\n",
    "df.to_csv(test_csv_path,index=False)"
   ]
  },
  {
   "cell_type": "code",
   "execution_count": null,
   "id": "ca7cec3f",
   "metadata": {},
   "outputs": [
    {
     "data": {
      "text/plain": [
       "'The car is Range Rover and its price Is 1.5cr which is creamy white'"
      ]
     },
     "execution_count": 9,
     "metadata": {},
     "output_type": "execute_result"
    }
   ],
   "source": [
    "@dataclass\n",
    "class car:\n",
    "    model='Range Rover'\n",
    "    price=\"1.5cr\"\n",
    "\n",
    "class car_details:\n",
    "    def __init__(self,color):\n",
    "        self.model_price=car()\n",
    "        self.color=color\n",
    "\n",
    "    def get_car_details(self):\n",
    "        return f\"The car is {self.model_price.model} and its price Is {self.model_price.price} which is {self.color}\"      \n",
    "    def __repr__(self):\n",
    "        pass\n",
    "c=car_details('creamy white')\n",
    "c.get_car_details()"
   ]
  },
  {
   "cell_type": "code",
   "execution_count": null,
   "id": "1e5d8e04",
   "metadata": {},
   "outputs": [],
   "source": []
  }
 ],
 "metadata": {
  "kernelspec": {
   "display_name": "fsds_env",
   "language": "python",
   "name": "python3"
  },
  "language_info": {
   "codemirror_mode": {
    "name": "ipython",
    "version": 3
   },
   "file_extension": ".py",
   "mimetype": "text/x-python",
   "name": "python",
   "nbconvert_exporter": "python",
   "pygments_lexer": "ipython3",
   "version": "3.7.10"
  }
 },
 "nbformat": 4,
 "nbformat_minor": 5
}
