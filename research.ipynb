{
 "cells": [
  {
   "cell_type": "code",
   "execution_count": 3,
   "id": "94112fdd",
   "metadata": {},
   "outputs": [
    {
     "name": "stdout",
     "output_type": "stream",
     "text": [
      "['pandas', 'Flask', 'numpy', 'scikit-learn', 'seaborn']\n"
     ]
    }
   ],
   "source": [
    "HYPHON_E_DOT = \"-e .\"\n",
    "\n",
    "def get_requriments(filepath: str)->list:\n",
    "    requirements = []\n",
    "\n",
    "    with open(filepath) as file_obj:\n",
    "        requirements = file_obj.readlines()\n",
    "        requirements = [ i.replace(\"\\n\", \"\") for i in requirements]\n",
    "        if HYPHON_E_DOT in requirements:\n",
    "            requirements.remove(HYPHON_E_DOT)\n",
    "    print(requirements)        \n",
    "\n",
    "get_requriments(\"requirements.txt\")"
   ]
  }
 ],
 "metadata": {
  "kernelspec": {
   "display_name": "fsds_env",
   "language": "python",
   "name": "python3"
  },
  "language_info": {
   "codemirror_mode": {
    "name": "ipython",
    "version": 3
   },
   "file_extension": ".py",
   "mimetype": "text/x-python",
   "name": "python",
   "nbconvert_exporter": "python",
   "pygments_lexer": "ipython3",
   "version": "3.7.10"
  }
 },
 "nbformat": 4,
 "nbformat_minor": 5
}
