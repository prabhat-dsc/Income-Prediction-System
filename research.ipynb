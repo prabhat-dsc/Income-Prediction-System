{
 "cells": [
  {
   "cell_type": "code",
   "execution_count": 3,
   "id": "94112fdd",
   "metadata": {},
   "outputs": [
    {
     "name": "stdout",
     "output_type": "stream",
     "text": [
      "['pandas', 'Flask', 'numpy', 'scikit-learn', 'seaborn']\n"
     ]
    }
   ],
   "source": [
    "HYPHON_E_DOT = \"-e .\"\n",
    "\n",
    "def get_requriments(filepath: str)->list:\n",
    "    requirements = []\n",
    "\n",
    "    with open(filepath) as file_obj:\n",
    "        requirements = file_obj.readlines()\n",
    "        requirements = [ i.replace(\"\\n\", \"\") for i in requirements]\n",
    "        if HYPHON_E_DOT in requirements:\n",
    "            requirements.remove(HYPHON_E_DOT)\n",
    "    print(requirements)        \n",
    "\n",
    "get_requriments(\"requirements.txt\")"
   ]
  },
  {
   "cell_type": "markdown",
   "id": "a190fcda",
   "metadata": {},
   "source": [
    "## Logger"
   ]
  },
  {
   "cell_type": "code",
   "execution_count": 2,
   "id": "d38e7047",
   "metadata": {},
   "outputs": [
    {
     "name": "stderr",
     "output_type": "stream",
     "text": [
      "WARNING:root:Watch out!\n"
     ]
    }
   ],
   "source": [
    "import logging\n",
    "\n",
    "logging.info('I told you so')  # will not print anything\n",
    "logging.warning('Watch out!')  # will print a message to the console"
   ]
  },
  {
   "cell_type": "code",
   "execution_count": null,
   "id": "2f9e516a",
   "metadata": {},
   "outputs": [],
   "source": [
    "import os\n",
    "import sys\n",
    "import logging\n",
    "from datetime import datetime\n",
    "\n",
    "\n",
    "LOG_FILE = f\"{datetime.now().strftime('%m_%d_%Y_%H_%M_%S')}.log\"\n",
    "\n",
    "log_path = os.path.join(os.getcwd(), \"logs\", LOG_FILE)\n",
    "\n",
    "os.makedirs(log_path, exist_ok= True)\n",
    "\n",
    "LOG_FILE_PATH = os.path.join(log_path, LOG_FILE)\n",
    "\n",
    "logging.basicConfig(\n",
    "    filename=LOG_FILE_PATH,\n",
    "    format=\"[ %(asctime)s ] %(lineno)d %(name)s - %(levelname)s - %(message)s\",\n",
    "    level=logging.INFO\n",
    "\n",
    ")"
   ]
  },
  {
   "cell_type": "code",
   "execution_count": 11,
   "id": "763f6e24",
   "metadata": {},
   "outputs": [
    {
     "data": {
      "text/plain": [
       "'18-04-2025::08:40:46.log'"
      ]
     },
     "execution_count": 11,
     "metadata": {},
     "output_type": "execute_result"
    }
   ],
   "source": [
    "import os\n",
    "import sys\n",
    "import logging\n",
    "from datetime import datetime\n",
    "\n",
    "log_file=f\"{datetime.now().strftime('%d-%m-%Y::%H:%M:%S')}.log\"\n",
    "log_file"
   ]
  },
  {
   "cell_type": "code",
   "execution_count": 40,
   "id": "45744191",
   "metadata": {},
   "outputs": [],
   "source": [
    "log_file=f\"{datetime.now().strftime('%d-%m-%Y_%H-%M-%S')}.log\"  \n",
    "log_dir='Loogss'\n",
    "log_path=os.path.join(os.getcwd(),log_dir,log_file)\n",
    "os.makedirs(log_path, exist_ok= True)\n",
    "log_file_path=os.path.join(log_path,log_file)\n",
    "logging.basicConfig(\n",
    "    filename=log_file_path,\n",
    "    format=\"[ %(asctime)s ] %(lineno)d %(name)s - %(levelname)s - %(message)s\",\n",
    "    level=logging.INFO\n",
    "\n",
    ")\n",
    "\n",
    "if __name__ == \"__main__\":\n",
    "   logging.info(\"Logging initialized!\")\n",
    "\n"
   ]
  },
  {
   "cell_type": "code",
   "execution_count": null,
   "id": "c142117a",
   "metadata": {},
   "outputs": [],
   "source": []
  }
 ],
 "metadata": {
  "kernelspec": {
   "display_name": "fsds_env",
   "language": "python",
   "name": "python3"
  },
  "language_info": {
   "codemirror_mode": {
    "name": "ipython",
    "version": 3
   },
   "file_extension": ".py",
   "mimetype": "text/x-python",
   "name": "python",
   "nbconvert_exporter": "python",
   "pygments_lexer": "ipython3",
   "version": "3.7.10"
  }
 },
 "nbformat": 4,
 "nbformat_minor": 5
}
